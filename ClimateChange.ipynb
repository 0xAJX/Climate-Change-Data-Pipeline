{
 "cells": [
  {
   "cell_type": "code",
   "execution_count": 1,
   "outputs": [],
   "source": [
    "from pyspark.sql import SparkSession\n",
    "from pyspark.sql import functions as func\n",
    "import pandas as pd"
   ],
   "metadata": {
    "collapsed": false,
    "pycharm": {
     "name": "#%%\n"
    }
   }
  },
  {
   "cell_type": "code",
   "execution_count": 2,
   "outputs": [],
   "source": [
    "file = \"Indian-Summers-Over-the-years.csv\"\n",
    "spark = SparkSession.builder.appName('Dataframe').getOrCreate()\n",
    "df_temp_country = spark.read.option(\"header\", True).csv(file)"
   ],
   "metadata": {
    "collapsed": false,
    "pycharm": {
     "name": "#%%\n"
    }
   }
  },
  {
   "cell_type": "code",
   "execution_count": 3,
   "outputs": [
    {
     "name": "stdout",
     "output_type": "stream",
     "text": [
      "+----------+-------------------+-----------------------------+-------+\n",
      "|        dt| AverageTemperature|AverageTemperatureUncertainty|Country|\n",
      "+----------+-------------------+-----------------------------+-------+\n",
      "|1743-11-01| 4.3839999999999995|                        2.294|  Åland|\n",
      "|1743-12-01|               null|                         null|  Åland|\n",
      "|1744-01-01|               null|                         null|  Åland|\n",
      "|1744-02-01|               null|                         null|  Åland|\n",
      "|1744-03-01|               null|                         null|  Åland|\n",
      "|1744-04-01|               1.53|                         4.68|  Åland|\n",
      "|1744-05-01|  6.702000000000001|                        1.789|  Åland|\n",
      "|1744-06-01| 11.609000000000002|                        1.577|  Åland|\n",
      "|1744-07-01|             15.342|                         1.41|  Åland|\n",
      "|1744-08-01|               null|                         null|  Åland|\n",
      "|1744-09-01|             11.702|                        1.517|  Åland|\n",
      "|1744-10-01|              5.477|                        1.862|  Åland|\n",
      "|1744-11-01|              3.407|                        1.425|  Åland|\n",
      "|1744-12-01|             -2.181|                        1.641|  Åland|\n",
      "|1745-01-01|              -3.85|                        1.841|  Åland|\n",
      "|1745-02-01| -6.574999999999998|                         1.36|  Åland|\n",
      "|1745-03-01|             -4.195|                        1.213|  Åland|\n",
      "|1745-04-01|-0.9660000000000002|                        1.172|  Åland|\n",
      "|1745-05-01|               null|                         null|  Åland|\n",
      "|1745-06-01|               null|                         null|  Åland|\n",
      "+----------+-------------------+-----------------------------+-------+\n",
      "only showing top 20 rows\n",
      "\n"
     ]
    }
   ],
   "source": [
    "df_temp_country.show()"
   ],
   "metadata": {
    "collapsed": false,
    "pycharm": {
     "name": "#%%\n"
    }
   }
  },
  {
   "cell_type": "code",
   "execution_count": 4,
   "outputs": [
    {
     "name": "stdout",
     "output_type": "stream",
     "text": [
      "+----------+------------------+-----------------------------+-------+\n",
      "|        dt|AverageTemperature|AverageTemperatureUncertainty|Country|\n",
      "+----------+------------------+-----------------------------+-------+\n",
      "|1950-01-01|17.317999999999998|                         0.12|  India|\n",
      "|1950-02-01|            18.305|          0.14800000000000002|  India|\n",
      "|1950-03-01|22.933000000000003|                        0.214|  India|\n",
      "|1950-04-01|             27.13|                        0.246|  India|\n",
      "|1950-05-01|            30.267|                        0.248|  India|\n",
      "|1950-06-01|             29.23|                        0.165|  India|\n",
      "|1950-07-01|26.581999999999997|                         0.16|  India|\n",
      "|1950-08-01|26.194000000000006|                        0.233|  India|\n",
      "|1950-09-01|            25.711|          0.08800000000000001|  India|\n",
      "|1950-10-01|            23.842|                        0.155|  India|\n",
      "|1950-11-01|            19.818|                        0.236|  India|\n",
      "|1950-12-01|            16.582|                        0.174|  India|\n",
      "|1951-01-01|            16.331|                        0.325|  India|\n",
      "|1951-02-01|            19.315|                        0.214|  India|\n",
      "|1951-03-01|23.840999999999998|                        0.157|  India|\n",
      "|1951-04-01|            26.345|                        0.205|  India|\n",
      "|1951-05-01|            29.826|                        0.281|  India|\n",
      "|1951-06-01|            29.103|                        0.385|  India|\n",
      "|1951-07-01|             27.47|                         0.25|  India|\n",
      "|1951-08-01|            26.548|                        0.098|  India|\n",
      "+----------+------------------+-----------------------------+-------+\n",
      "only showing top 20 rows\n",
      "\n"
     ]
    }
   ],
   "source": [
    "india_data = df_temp_country.where(func.lower(func.col(\"Country\")) == \"india\").where(df_temp_country.dt >= \"1950-01-01\")\n",
    "india_data.show()"
   ],
   "metadata": {
    "collapsed": false,
    "pycharm": {
     "name": "#%%\n"
    }
   }
  },
  {
   "cell_type": "code",
   "execution_count": 17,
   "outputs": [
    {
     "name": "stdout",
     "output_type": "stream",
     "text": [
      "+----+------------------+\n",
      "|year|AverageTemperature|\n",
      "+----+------------------+\n",
      "|1950|             23.66|\n",
      "|1951|             24.22|\n",
      "|1952|             24.37|\n",
      "|1953|             24.56|\n",
      "|1954|             24.17|\n",
      "|1955|             23.95|\n",
      "|1956|              23.9|\n",
      "|1957|             24.03|\n",
      "|1958|             24.68|\n",
      "|1959|             24.27|\n",
      "|1960|             24.29|\n",
      "|1961|             23.82|\n",
      "|1962|             23.89|\n",
      "|1963|              24.1|\n",
      "|1964|             24.07|\n",
      "|1965|             24.09|\n",
      "|1966|             24.44|\n",
      "|1967|             23.99|\n",
      "|1968|             23.87|\n",
      "|1969|              24.5|\n",
      "+----+------------------+\n",
      "only showing top 20 rows\n",
      "\n"
     ]
    }
   ],
   "source": [
    "india_data = india_data.withColumn(\"AverageTemperature\", func.round(func.col(\"AverageTemperature\"),2)).withColumn(\"AverageTemperatureUncertainty\", func.round(func.col(\"AverageTemperatureUncertainty\"),2)).withColumn(\"year\", func.year(func.col(\"dt\")))\n",
    "\n",
    "india_data_grouped = india_data.groupby(func.col(\"year\")).agg(func.round(func.avg(func.col(\"AverageTemperature\")), 2).alias(\"AverageTemperature\")).sort(func.col(\"year\"))\n",
    "india_data_grouped.show()"
   ],
   "metadata": {
    "collapsed": false,
    "pycharm": {
     "name": "#%%\n"
    }
   }
  },
  {
   "cell_type": "code",
   "execution_count": 18,
   "outputs": [],
   "source": [
    "india_data_pd = india_data_grouped.toPandas()"
   ],
   "metadata": {
    "collapsed": false,
    "pycharm": {
     "name": "#%%\n"
    }
   }
  }
 ],
 "metadata": {
  "kernelspec": {
   "display_name": "Python 3",
   "language": "python",
   "name": "python3"
  },
  "language_info": {
   "codemirror_mode": {
    "name": "ipython",
    "version": 2
   },
   "file_extension": ".py",
   "mimetype": "text/x-python",
   "name": "python",
   "nbconvert_exporter": "python",
   "pygments_lexer": "ipython2",
   "version": "2.7.6"
  }
 },
 "nbformat": 4,
 "nbformat_minor": 0
}